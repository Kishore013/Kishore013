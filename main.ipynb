{
 "cells": [
  {
   "cell_type": "code",
   "execution_count": null,
   "id": "2ee0c065",
   "metadata": {},
   "outputs": [
    {
     "name": "stdout",
     "output_type": "stream",
     "text": [
      "Bot Started...\n",
      "Update {'update_id': 813009871, 'message': {'caption_entities': [], 'chat': {'type': 'private', 'username': 'Postal_PLI', 'first_name': 'Post Office', 'id': 1878407779}, 'text': 'Date', 'date': 1623063566, 'channel_chat_created': False, 'group_chat_created': False, 'delete_chat_photo': False, 'photo': [], 'message_id': 436, 'supergroup_chat_created': False, 'entities': [], 'new_chat_members': [], 'new_chat_photo': [], 'from': {'username': 'Postal_PLI', 'language_code': 'en', 'is_bot': False, 'first_name': 'Post Office', 'id': 1878407779}}} caused error 'datetime.datetime' object is not callable\n",
      "Update {'update_id': 813009873, 'message': {'caption_entities': [], 'chat': {'type': 'private', 'username': 'Postal_PLI', 'first_name': 'Post Office', 'id': 1878407779}, 'text': 'Date', 'date': 1623064692, 'channel_chat_created': False, 'group_chat_created': False, 'delete_chat_photo': False, 'photo': [], 'message_id': 439, 'supergroup_chat_created': False, 'entities': [], 'new_chat_members': [], 'new_chat_photo': [], 'from': {'username': 'Postal_PLI', 'language_code': 'en', 'is_bot': False, 'first_name': 'Post Office', 'id': 1878407779}}} caused error 'datetime.datetime' object is not callable\n"
     ]
    },
    {
     "name": "stderr",
     "output_type": "stream",
     "text": [
      "Error while getting Updates: urllib3 HTTPError HTTPSConnectionPool(host='api.telegram.org', port=443): Max retries exceeded with url: /bot1738922530:AAEPO8pBNabzbfemuhF9YKKLjFNHqvzZjGs/getUpdates (Caused by NewConnectionError('<telegram.vendor.ptb_urllib3.urllib3.connection.VerifiedHTTPSConnection object at 0x000001FB7548DA90>: Failed to establish a new connection: [Errno 11001] getaddrinfo failed'))\n"
     ]
    },
    {
     "name": "stdout",
     "output_type": "stream",
     "text": [
      "Update None caused error urllib3 HTTPError HTTPSConnectionPool(host='api.telegram.org', port=443): Max retries exceeded with url: /bot1738922530:AAEPO8pBNabzbfemuhF9YKKLjFNHqvzZjGs/getUpdates (Caused by NewConnectionError('<telegram.vendor.ptb_urllib3.urllib3.connection.VerifiedHTTPSConnection object at 0x000001FB7548DA90>: Failed to establish a new connection: [Errno 11001] getaddrinfo failed'))\n"
     ]
    },
    {
     "name": "stderr",
     "output_type": "stream",
     "text": [
      "Error while getting Updates: urllib3 HTTPError HTTPSConnectionPool(host='api.telegram.org', port=443): Max retries exceeded with url: /bot1738922530:AAEPO8pBNabzbfemuhF9YKKLjFNHqvzZjGs/getUpdates (Caused by NewConnectionError('<telegram.vendor.ptb_urllib3.urllib3.connection.VerifiedHTTPSConnection object at 0x000001FB754E10A0>: Failed to establish a new connection: [Errno 11001] getaddrinfo failed'))\n"
     ]
    },
    {
     "name": "stdout",
     "output_type": "stream",
     "text": [
      "Update None caused error urllib3 HTTPError HTTPSConnectionPool(host='api.telegram.org', port=443): Max retries exceeded with url: /bot1738922530:AAEPO8pBNabzbfemuhF9YKKLjFNHqvzZjGs/getUpdates (Caused by NewConnectionError('<telegram.vendor.ptb_urllib3.urllib3.connection.VerifiedHTTPSConnection object at 0x000001FB754E10A0>: Failed to establish a new connection: [Errno 11001] getaddrinfo failed'))\n"
     ]
    },
    {
     "name": "stderr",
     "output_type": "stream",
     "text": [
      "Error while getting Updates: urllib3 HTTPError HTTPSConnectionPool(host='api.telegram.org', port=443): Max retries exceeded with url: /bot1738922530:AAEPO8pBNabzbfemuhF9YKKLjFNHqvzZjGs/getUpdates (Caused by NewConnectionError('<telegram.vendor.ptb_urllib3.urllib3.connection.VerifiedHTTPSConnection object at 0x000001FB754E1580>: Failed to establish a new connection: [Errno 11001] getaddrinfo failed'))\n"
     ]
    },
    {
     "name": "stdout",
     "output_type": "stream",
     "text": [
      "Update None caused error urllib3 HTTPError HTTPSConnectionPool(host='api.telegram.org', port=443): Max retries exceeded with url: /bot1738922530:AAEPO8pBNabzbfemuhF9YKKLjFNHqvzZjGs/getUpdates (Caused by NewConnectionError('<telegram.vendor.ptb_urllib3.urllib3.connection.VerifiedHTTPSConnection object at 0x000001FB754E1580>: Failed to establish a new connection: [Errno 11001] getaddrinfo failed'))\n"
     ]
    },
    {
     "name": "stderr",
     "output_type": "stream",
     "text": [
      "Error while getting Updates: urllib3 HTTPError HTTPSConnectionPool(host='api.telegram.org', port=443): Max retries exceeded with url: /bot1738922530:AAEPO8pBNabzbfemuhF9YKKLjFNHqvzZjGs/getUpdates (Caused by NewConnectionError('<telegram.vendor.ptb_urllib3.urllib3.connection.VerifiedHTTPSConnection object at 0x000001FB7548DEB0>: Failed to establish a new connection: [Errno 11001] getaddrinfo failed'))\n"
     ]
    },
    {
     "name": "stdout",
     "output_type": "stream",
     "text": [
      "Update None caused error urllib3 HTTPError HTTPSConnectionPool(host='api.telegram.org', port=443): Max retries exceeded with url: /bot1738922530:AAEPO8pBNabzbfemuhF9YKKLjFNHqvzZjGs/getUpdates (Caused by NewConnectionError('<telegram.vendor.ptb_urllib3.urllib3.connection.VerifiedHTTPSConnection object at 0x000001FB7548DEB0>: Failed to establish a new connection: [Errno 11001] getaddrinfo failed'))\n"
     ]
    },
    {
     "name": "stderr",
     "output_type": "stream",
     "text": [
      "Error while getting Updates: urllib3 HTTPError HTTPSConnectionPool(host='api.telegram.org', port=443): Max retries exceeded with url: /bot1738922530:AAEPO8pBNabzbfemuhF9YKKLjFNHqvzZjGs/getUpdates (Caused by NewConnectionError('<telegram.vendor.ptb_urllib3.urllib3.connection.VerifiedHTTPSConnection object at 0x000001FB7548D610>: Failed to establish a new connection: [Errno 11001] getaddrinfo failed'))\n"
     ]
    },
    {
     "name": "stdout",
     "output_type": "stream",
     "text": [
      "Update None caused error urllib3 HTTPError HTTPSConnectionPool(host='api.telegram.org', port=443): Max retries exceeded with url: /bot1738922530:AAEPO8pBNabzbfemuhF9YKKLjFNHqvzZjGs/getUpdates (Caused by NewConnectionError('<telegram.vendor.ptb_urllib3.urllib3.connection.VerifiedHTTPSConnection object at 0x000001FB7548D610>: Failed to establish a new connection: [Errno 11001] getaddrinfo failed'))\n"
     ]
    },
    {
     "name": "stderr",
     "output_type": "stream",
     "text": [
      "Error while getting Updates: urllib3 HTTPError HTTPSConnectionPool(host='api.telegram.org', port=443): Max retries exceeded with url: /bot1738922530:AAEPO8pBNabzbfemuhF9YKKLjFNHqvzZjGs/getUpdates (Caused by NewConnectionError('<telegram.vendor.ptb_urllib3.urllib3.connection.VerifiedHTTPSConnection object at 0x000001FB754E16D0>: Failed to establish a new connection: [Errno 11001] getaddrinfo failed'))\n"
     ]
    },
    {
     "name": "stdout",
     "output_type": "stream",
     "text": [
      "Update None caused error urllib3 HTTPError HTTPSConnectionPool(host='api.telegram.org', port=443): Max retries exceeded with url: /bot1738922530:AAEPO8pBNabzbfemuhF9YKKLjFNHqvzZjGs/getUpdates (Caused by NewConnectionError('<telegram.vendor.ptb_urllib3.urllib3.connection.VerifiedHTTPSConnection object at 0x000001FB754E16D0>: Failed to establish a new connection: [Errno 11001] getaddrinfo failed'))\n"
     ]
    },
    {
     "name": "stderr",
     "output_type": "stream",
     "text": [
      "Error while getting Updates: urllib3 HTTPError HTTPSConnectionPool(host='api.telegram.org', port=443): Max retries exceeded with url: /bot1738922530:AAEPO8pBNabzbfemuhF9YKKLjFNHqvzZjGs/getUpdates (Caused by NewConnectionError('<telegram.vendor.ptb_urllib3.urllib3.connection.VerifiedHTTPSConnection object at 0x000001FB754E1D30>: Failed to establish a new connection: [Errno 11001] getaddrinfo failed'))\n"
     ]
    },
    {
     "name": "stdout",
     "output_type": "stream",
     "text": [
      "Update None caused error urllib3 HTTPError HTTPSConnectionPool(host='api.telegram.org', port=443): Max retries exceeded with url: /bot1738922530:AAEPO8pBNabzbfemuhF9YKKLjFNHqvzZjGs/getUpdates (Caused by NewConnectionError('<telegram.vendor.ptb_urllib3.urllib3.connection.VerifiedHTTPSConnection object at 0x000001FB754E1D30>: Failed to establish a new connection: [Errno 11001] getaddrinfo failed'))\n"
     ]
    }
   ],
   "source": [
    "import Constants as keys\n",
    "from telegram.ext import *\n",
    "import Responses as R\n",
    "\n",
    "print(\"Bot Started...\")\n",
    "\n",
    "\n",
    "def start_command(update, context):\n",
    "    update.message.reply_text('Type something random to get start1')\n",
    "\n",
    "\n",
    "def help_command(update, context):\n",
    "    update.message.reply_text('Ask Yahoo')\n",
    "\n",
    "\n",
    "def handle_message(update, context):\n",
    "    text = str(update.message.text).lower()\n",
    "    response = R.sample_responses(text)\n",
    "    \n",
    "    update.message.reply_text(response)\n",
    "\n",
    "def error(update, context):\n",
    "    print(f\"Update {update} caused error {context.error}\")\n",
    "\n",
    "\n",
    "\n",
    "def main():\n",
    "    updater = Updater(keys.API_KEY, use_context=True)\n",
    "    dp = updater.dispatcher\n",
    "\n",
    "    dp.add_handler(CommandHandler(\"start\", start_command))\n",
    "    dp.add_handler(CommandHandler(\"help\", help_command))\n",
    "\n",
    "    dp.add_handler(MessageHandler(Filters.text, handle_message))\n",
    "\n",
    "    dp.add_error_handler(error)\n",
    "\n",
    "    updater.start_polling()\n",
    "    updater.idle()\n",
    "main()\n"
   ]
  },
  {
   "cell_type": "code",
   "execution_count": null,
   "id": "1c3ad8f4",
   "metadata": {},
   "outputs": [],
   "source": []
  }
 ],
 "metadata": {
  "kernelspec": {
   "display_name": "Python 3",
   "language": "python",
   "name": "python3"
  },
  "language_info": {
   "codemirror_mode": {
    "name": "ipython",
    "version": 3
   },
   "file_extension": ".py",
   "mimetype": "text/x-python",
   "name": "python",
   "nbconvert_exporter": "python",
   "pygments_lexer": "ipython3",
   "version": "3.8.8"
  }
 },
 "nbformat": 4,
 "nbformat_minor": 5
}
